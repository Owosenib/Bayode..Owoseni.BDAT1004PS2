{
 "cells": [
  {
   "cell_type": "code",
   "execution_count": null,
   "id": "0ae4ab2f",
   "metadata": {},
   "outputs": [],
   "source": [
    "QUESTION 1"
   ]
  },
  {
   "cell_type": "code",
   "execution_count": null,
   "id": "d112a0cc",
   "metadata": {},
   "outputs": [],
   "source": [
    "Consider the following Python module:\n",
    "\n",
    "a = 0\n",
    "\n",
    "def b():\n",
    "\n",
    "global a\n",
    "\n",
    "a = c(a)\n",
    "\n",
    "def c(a):\n",
    "\n",
    "return a + 2\n",
    "\n",
    "After importing the module into the interpreter, you execute:\n",
    "\n",
    ">>> b()\n",
    "\n",
    ">>> b()\n",
    "\n",
    ">>> b()\n",
    "\n",
    ">>> a\n",
    "\n",
    "?\n",
    "\n",
    "What value is displayed when the last expression (a) is evaluated? Explain your answer by indicating what happens in every executed statement."
   ]
  },
  {
   "cell_type": "code",
   "execution_count": null,
   "id": "732f3e34",
   "metadata": {},
   "outputs": [],
   "source": [
    "SOLUTION 1"
   ]
  },
  {
   "cell_type": "code",
   "execution_count": null,
   "id": "94509b78",
   "metadata": {},
   "outputs": [],
   "source": [
    "a = 0\n",
    "def b(): \n",
    " global a\n",
    " a = c(a) \n",
    "def c(a):\n",
    " return a + 2 \n",
    " \n",
    " \n",
    "//Explanation\n",
    "Every steps 2 is added\n",
    " \n",
    "b() then a is 0 + 2 = 2\n",
    " \n",
    "b() then a is 2 + 2 = 4\n",
    " \n",
    "b() then a is 4 + 2 = 6\n",
    " \n",
    "a was eventually 6\n"
   ]
  },
  {
   "cell_type": "code",
   "execution_count": null,
   "id": "03b75bfa",
   "metadata": {},
   "outputs": [],
   "source": []
  },
  {
   "cell_type": "code",
   "execution_count": null,
   "id": "0dd5fd4d",
   "metadata": {},
   "outputs": [],
   "source": [
    "QUESTION 2"
   ]
  },
  {
   "cell_type": "code",
   "execution_count": null,
   "id": "ec45ed03",
   "metadata": {},
   "outputs": [],
   "source": [
    "Function fileLength(), given to you, takes the name of a file as input and returns the length of the file: >>> fileLength('midterm.py') 284 >>> fileLength('idterm.py') Traceback (most recent call last): File \"<pyshell#34>\", line 1, in <module> fileLength('idterm.py') File \"/Users/me/midterm.py\", line 3, in fileLength infile = open(filename) FileNotFoundError: [Errno 2] No such file or directory: 'idterm.py'\n",
    "\n",
    "As shown above, if the file cannot be found by the interpreter or if it cannot be read as a text file, an exception will be raised. Modify function fileLength() so that a friendly message is printed instead: >>> fileLength('midterm.py') 358 >>> fileLength('idterm.py') File idterm.py not found."
   ]
  },
  {
   "cell_type": "code",
   "execution_count": null,
   "id": "ddf81ed9",
   "metadata": {},
   "outputs": [],
   "source": [
    "SOLUTION 2"
   ]
  },
  {
   "cell_type": "code",
   "execution_count": null,
   "id": "cea612a4",
   "metadata": {},
   "outputs": [],
   "source": [
    "import os\n",
    "\n",
    "\n",
    "\n",
    "#function to check length of file\n",
    "\n",
    "def fileLength(file_name):\n",
    "\n",
    "  try:\n",
    "\n",
    "    length = os.path.getsize(file_name)\n",
    "\n",
    "    return length\n",
    "\n",
    "  except FileNotFoundError:\n",
    "\n",
    "    #return file not found string\n",
    "\n",
    "    return \"File \"+file_name+\" not found.\"\n",
    "\n",
    "     \n",
    "\n",
    "#call function to print size\n",
    "\n",
    "print(fileLength('idterm.py'))  "
   ]
  },
  {
   "cell_type": "code",
   "execution_count": null,
   "id": "a305c20a",
   "metadata": {},
   "outputs": [],
   "source": []
  },
  {
   "cell_type": "code",
   "execution_count": null,
   "id": "5e7b0787",
   "metadata": {},
   "outputs": [],
   "source": [
    "QUESTION 3"
   ]
  },
  {
   "cell_type": "code",
   "execution_count": null,
   "id": "af28ea6c",
   "metadata": {},
   "outputs": [],
   "source": [
    "Write a class named Marsupial that can be used as shown below: >>> m = Marsupial() >>> m.put_in_pouch('doll') >>> m.put_in_pouch('firetruck') >>> m.put_in_pouch('kitten') >>> m.pouch_contents() ['doll', 'firetruck', 'kitten']\n",
    "\n",
    "Now write a class named Kangaroo as a subclass of Marsupial that inherits all the attributes of Marsupial and also:\n",
    "\n",
    "extends the Marsupial __init__ constructor to take, as input, the coordinates x and y of the Kangaroo object,\n",
    "supports method jump that takes number values dx and dy as input and moves the kangaroo by dx units along the x-axis and by dy units along the y-axis, and\n",
    "overloads the __str__ operator so it behaves as shown below.\n",
    ">>> k = Kangaroo(0,0) >>> print(k) I am a Kangaroo located at coordinates (0,0) >>> k.put_in_pouch('doll') >>> k.put_in_pouch('firetruck') >>> k.put_in_pouch('kitten') >>> k.pouch_contents() ['doll', 'firetruck', 'kitten'] >>> k.jump(1,0) >>> k.jump(1,0) >>> k.jump(1,0) >>> print(k) I am a Kangaroo located at coordinates (3,0)"
   ]
  },
  {
   "cell_type": "code",
   "execution_count": null,
   "id": "7c63f18c",
   "metadata": {},
   "outputs": [],
   "source": [
    "SOLUTION 3"
   ]
  },
  {
   "cell_type": "code",
   "execution_count": null,
   "id": "3b85aeb4",
   "metadata": {},
   "outputs": [],
   "source": [
    "#A class named Marsupial\n",
    "class Marsupial:\n",
    "    #Constructor\n",
    "    def __init__(self):\n",
    "        self.lst = []\n",
    "\n",
    "    #Add to list\n",
    "    def put_in_pouch(self, item):\n",
    "        self.lst.append(item)\n",
    "\n",
    "    #Return List\n",
    "    def pouch_contents(self):\n",
    "        return self.lst\n",
    "\n",
    "#Test\n",
    "m = Marsupial()\n",
    "m.put_in_pouch('doll')\n",
    "m.put_in_pouch('firetruck')\n",
    "m.put_in_pouch('kitten')\n",
    "print(m.pouch_contents()) "
   ]
  },
  {
   "cell_type": "code",
   "execution_count": null,
   "id": "d1e629e3",
   "metadata": {},
   "outputs": [],
   "source": [
    "3 a,b,c"
   ]
  },
  {
   "cell_type": "code",
   "execution_count": null,
   "id": "22135d34",
   "metadata": {},
   "outputs": [],
   "source": [
    "#Class\n",
    "class Marsupial:\n",
    "    #Constructor\n",
    "    def __init__(self):\n",
    "        self.lst = []\n",
    "\n",
    "    #Add to list\n",
    "    def put_in_pouch(self, item):\n",
    "        self.lst.append(item)\n",
    "\n",
    "    #Return List\n",
    "    def pouch_contents(self):\n",
    "        return self.lst\n",
    "\n",
    "#Class\n",
    "class Kangaroo(Marsupial):\n",
    "    #Constructor\n",
    "    def __init__(self,x,y):\n",
    "        Marsupial.__init__(self)\n",
    "        self.x = x\n",
    "        self.y = y\n",
    "\n",
    "    #Jump\n",
    "    def jump(self,dx,dy):\n",
    "        self.x += dx\n",
    "        self.y += dy\n",
    "\n",
    "    #Str\n",
    "    def __str__(self):\n",
    "        return 'I am a Kangaroo located at coordinates ({},{})'.format(self.x,self.y)\n",
    "\n",
    "#Test\n",
    "k = Kangaroo(0,0)\n",
    "print(k)\n",
    "k.put_in_pouch('doll')\n",
    "k.put_in_pouch('firetruck')\n",
    "k.put_in_pouch('kitten')\n",
    "print(k.pouch_contents())\n",
    "k.jump(1,0)\n",
    "k.jump(1,0)"
   ]
  },
  {
   "cell_type": "code",
   "execution_count": null,
   "id": "7b658f1d",
   "metadata": {},
   "outputs": [],
   "source": []
  },
  {
   "cell_type": "code",
   "execution_count": null,
   "id": "d4089260",
   "metadata": {},
   "outputs": [],
   "source": [
    "QUESTION 4"
   ]
  },
  {
   "cell_type": "code",
   "execution_count": null,
   "id": "5c83884d",
   "metadata": {},
   "outputs": [],
   "source": [
    "Write function collatz() that takes a positive integer x as input and prints the Collatz sequence starting at x. A Collatz sequence is obtained by repeatedly applying this rule to the previous number x in the sequence:\n",
    "\n",
    "x = { 𝑥/2 𝑖𝑓 𝑥 𝑖𝑠 𝑒𝑣𝑒𝑛3𝑥+1 𝑖𝑓 𝑥 𝑖𝑠 𝑜𝑑𝑑\n",
    "\n",
    "Your function should stop when the sequence gets to number 1. Your implementation must be recursive, without any loops.\n",
    "\n",
    ">>> collatz(1)\n",
    "\n",
    "1\n",
    "\n",
    ">>> collatz(10)"
   ]
  },
  {
   "cell_type": "code",
   "execution_count": null,
   "id": "01cc7e93",
   "metadata": {},
   "outputs": [],
   "source": [
    "SOLUTION 4"
   ]
  },
  {
   "cell_type": "code",
   "execution_count": null,
   "id": "ac84e753",
   "metadata": {},
   "outputs": [],
   "source": [
    "def collatz(x):\n",
    "\n",
    "    #print value of x\n",
    "    print(x)\n",
    "    if x==1:\n",
    "        return \n",
    "    elif x%2==0:\n",
    "        return collatz(x//2)  #call method recursively\n",
    "    else:\n",
    "        return collatz(x*3+1)  #call method recursively"
   ]
  },
  {
   "cell_type": "code",
   "execution_count": null,
   "id": "7d60a776",
   "metadata": {},
   "outputs": [],
   "source": []
  },
  {
   "cell_type": "code",
   "execution_count": null,
   "id": "59ff0033",
   "metadata": {},
   "outputs": [],
   "source": [
    "QUESTION 5"
   ]
  },
  {
   "cell_type": "code",
   "execution_count": null,
   "id": "352aad4d",
   "metadata": {},
   "outputs": [],
   "source": [
    "Write a recursive method binary() that takes a non-negative integer n and prints the binary representation of integer n. >>> binary(0) 0 >>> binary(1) 1 >>> binary(3) 11 >>> binary(9) 1001"
   ]
  },
  {
   "cell_type": "code",
   "execution_count": null,
   "id": "c025ed01",
   "metadata": {},
   "outputs": [],
   "source": [
    "SOLUTION 5"
   ]
  },
  {
   "cell_type": "code",
   "execution_count": null,
   "id": "b10a2fb2",
   "metadata": {},
   "outputs": [],
   "source": [
    "def binary(n):\n",
    "    result = []\n",
    "    neg = n < 0\n",
    "    if n == 0:\n",
    "        return [0]\n",
    "    elif n < 0:\n",
    "        n *= -1\n",
    "    while n > 0:\n",
    "        result.insert(0, n % 2)\n",
    "        n //= 2\n",
    "    if neg:\n",
    "        result.insert(0, '-')\n",
    "    return result"
   ]
  },
  {
   "cell_type": "code",
   "execution_count": null,
   "id": "cdf4b4de",
   "metadata": {},
   "outputs": [],
   "source": []
  },
  {
   "cell_type": "code",
   "execution_count": null,
   "id": "5cdfb69b",
   "metadata": {},
   "outputs": [],
   "source": [
    " QUESTION 6"
   ]
  },
  {
   "cell_type": "code",
   "execution_count": null,
   "id": "80927dc2",
   "metadata": {},
   "outputs": [],
   "source": [
    "Implement a class named HeadingParser that can be used to parse an HTML document, and retrieve and print all the headings in the document. You should implement your class as a subclass of HTMLParser, defined in Standard Library module html.parser. When fed a string containing HTML code, your class should print the headings, one per line and in the order in which they appear in the document. Each heading should be indented as follows: an h1 heading should have\n",
    "\n",
    "indentation 0, and h2 heading should have indentation 1, etc. Test your implementation using w3c.html.\n",
    "\n",
    ">>> infile = open('w3c.html')\n",
    "\n",
    ">>> content = infile.read()\n",
    "\n",
    ">>> infile.close()\n",
    "\n",
    ">>> hp = HeadingParser()\n",
    "\n",
    ">>> hp.feed(content)\n",
    "\n",
    "W3C Mission\n",
    "\n",
    "Principles"
   ]
  },
  {
   "cell_type": "code",
   "execution_count": null,
   "id": "55f24a8c",
   "metadata": {},
   "outputs": [],
   "source": [
    "SOLUTION 6"
   ]
  },
  {
   "cell_type": "code",
   "execution_count": null,
   "id": "b6d82429",
   "metadata": {},
   "outputs": [],
   "source": [
    "from html.parser import HTMLParser\n",
    "\n",
    "class DocumentParser(HTMLParser):\n",
    "\n",
    "    def __init__(self):\n",
    "        '''Reset the old data in the cache. Initialise the variables.'''\n",
    "        super().__init__()\n",
    "        self.reset()\n",
    "        self.tag_data = []\n",
    "\n",
    "    def handle_starttag(self, tag, attrs):\n",
    "        '''Read the start tag'''\n",
    "\n",
    "        # Check if the tag belongs to heading. If so then append inside the variable to be used later\n",
    "        if tag in ['h1', 'h2', 'h3', 'h4', 'h5', 'h6']:\n",
    "            self.tag_data.append({'type': tag, 'data': ''})\n",
    "\n",
    "    def handle_data(self, data):\n",
    "        '''Get the data from the tag'''\n",
    "\n",
    "        # Only for head tag store the data inside the list\n",
    "        if len(self.tag_data) != 0:\n",
    "          open_tag_data = self.tag_data.pop()\n",
    "          if open_tag_data['type'] in ['h1', 'h2', 'h3', 'h4', 'h5', 'h6']:\n",
    "              open_tag_data['data'] = data\n",
    "              self.tag_data.append(open_tag_data)\n",
    "\n",
    "    def print_data(self):\n",
    "        '''Print the data as per the requirement'''\n",
    "\n",
    "        # For h1 add no indentation, for h2 add one and so on.\n",
    "        # print(self.tag_data)\n",
    "        for data in self.tag_data:\n",
    "            if data['type'] == 'h1':\n",
    "                print(data['data'])\n",
    "\n",
    "            if data['type'] == 'h2':\n",
    "                print(\"\\t\" + data['data'])\n",
    "\n",
    "            if data['type'] == 'h3':\n",
    "                print(\"\\t\\t\" + data['data'])\n",
    "\n",
    "            if data['type'] == 'h4':\n",
    "                print(\"\\t\\t\\t\" + data['data'])\n",
    "\n",
    "            if data['type'] == 'h5':\n",
    "                print(\"\\t\\t\\t\\t\" + data['data'])\n",
    "\n",
    "            if data['type'] == 'h6':\n",
    "                print(\"\\t\\t\\t\\t\\t\" + data['data'])\n",
    "\n",
    "\n",
    "infile = open('w3c.html')\n",
    "content = infile.read()\n",
    "infile.close()\n",
    "parser = DocumentParser()\n",
    "content = content.replace(\"\\n\", \"\")\n",
    "content = content.replace(\"\\t\", \"\")\n",
    "content = content.replace(\" \", \"\")\n",
    "parser.feed(content)\n",
    "parser.print_data()"
   ]
  },
  {
   "cell_type": "code",
   "execution_count": null,
   "id": "d4462aa1",
   "metadata": {},
   "outputs": [],
   "source": [
    "W3CMission\n",
    "\tPrinciples"
   ]
  },
  {
   "cell_type": "code",
   "execution_count": null,
   "id": "1e6c7cc5",
   "metadata": {},
   "outputs": [],
   "source": []
  },
  {
   "cell_type": "code",
   "execution_count": null,
   "id": "6ce91e45",
   "metadata": {},
   "outputs": [],
   "source": [
    "QUESTION 7"
   ]
  },
  {
   "cell_type": "code",
   "execution_count": null,
   "id": "80f96c48",
   "metadata": {},
   "outputs": [],
   "source": [
    "Implement recursive function webdir() that takes as input: a URL (as a string) and non-negative integers depth and indent. Your function should visit every web page reachable from the starting URL web page in depth clicks or less, and print each web page's URL. As shown below, indentation, specified by indent, should be used to indicate the depth of a URL. >>> webdir('http://reed.cs.depaul.edu/lperkovic/csc242/test1.html', 2, 0) http://reed.cs.depaul.edu/lperkovic/csc242/test1.html http://reed.cs.depaul.edu/lperkovic/csc242/test2.html http://reed.cs.depaul.edu/lperkovic/csc242/test4.html http://reed.cs.depaul.edu/lperkovic/csc242/test3.html http://reed.cs.depaul.edu/lperkovic/csc242/test4.html"
   ]
  },
  {
   "cell_type": "code",
   "execution_count": null,
   "id": "d476c785",
   "metadata": {},
   "outputs": [],
   "source": [
    "SOLUTION 7"
   ]
  },
  {
   "cell_type": "code",
   "execution_count": null,
   "id": "a36e92cc",
   "metadata": {},
   "outputs": [],
   "source": [
    "from urllib.parse import urljoin\n",
    "from html.parser import HTMLParser\n",
    "from urllib.request import urlopen\n",
    "\n",
    "class Collector(HTMLParser):\n",
    "\n",
    "    def __init__(self, url):\n",
    "        HTMLParser.__init__(self)\n",
    "        self.url = url\n",
    "        self.links = []\n",
    "\n",
    "    \n",
    "    def handle_starttag(self, tag, attrs):\n",
    "        if tag == 'a':\n",
    "            for attr in attrs:\n",
    "                if attr[0] == 'href':\n",
    "                    absolute = urljoin(self.url, attr[1])\n",
    "                    if absolute[:4] == 'http': # collect HTTP URLs\n",
    "                        self.links.append(absolute)\n",
    "                        \n",
    "    def getLinks(self):\n",
    "        return self.links\n",
    "\n",
    "def Links(url):\n",
    "    resource = urlopen(url)\n",
    "    content = resource.read().decode()\n",
    "    collector = Collector(url)\n",
    "    collector.feed(content)\n",
    "    return collector.getLinks()\n",
    "\n",
    "def getLinks(self):\n",
    "        return self.links\n",
    "\n",
    "global deep\n",
    "def displayUrl(url,presentDepth):\n",
    "    padding = len(url) + (presentDepth*indentation)\n",
    "    string = url.center(padding,\" \")\n",
    "    print(string)\n",
    "\n",
    "def crawl(url,presentDepth):\n",
    "    \n",
    "\n",
    "    if(presentDepth>deep): return   \n",
    "    displayUrl(url,presentDepth)\n",
    "\n",
    "    links = Links(url)\n",
    "\n",
    "    for link in links:\n",
    "        try:\n",
    "            crawl(link,presentDepth+1)\n",
    "        except:\n",
    "            pass\n",
    "\n",
    "def webdir(url,depth,indent):\n",
    "    global indentation \n",
    "    deep=depth \n",
    "\n",
    "    crawl(url, 0)\n",
    "\n",
    "\n",
    "url = 'http://reed.cs.depaul.edu/lperkovic/test1.html'\n",
    "webdir(url,2,4)"
   ]
  },
  {
   "cell_type": "code",
   "execution_count": null,
   "id": "705ac796",
   "metadata": {},
   "outputs": [],
   "source": [
    "http://reed.cs.depaul.edu/lperkovic/test1.html\n",
    "  http://reed.cs.depaul.edu/lperkovic/test2.html  \n",
    "    http://reed.cs.depaul.edu/lperkovic/test4.html    \n",
    "  http://reed.cs.depaul.edu/lperkovic/test3.html  \n",
    "    http://reed.cs.depaul.edu/lperkovic/test4.html "
   ]
  },
  {
   "cell_type": "code",
   "execution_count": null,
   "id": "73aabf4a",
   "metadata": {},
   "outputs": [],
   "source": []
  },
  {
   "cell_type": "code",
   "execution_count": null,
   "id": "db44f615",
   "metadata": {},
   "outputs": [],
   "source": [
    "QUESTION 8"
   ]
  },
  {
   "cell_type": "code",
   "execution_count": null,
   "id": "3fbd0ac1",
   "metadata": {},
   "outputs": [],
   "source": [
    "Write SQL queries on the below database table that return:\n",
    "\n",
    "1, All the temperature data.\n",
    "2, All the cities, but without repetition.\n",
    "3, All the records for India.\n",
    "4, All the Fall records.\n",
    "5, The city, country, and season for which the average rainfall is between 200 and 400 millimeters.\n",
    "6, The city and country for which the average Fall temperature is above 20 degrees, in increasing temperature order.\n",
    "7, The total annual rainfall for Cairo.\n",
    "8, The total rainfall for each season.\n",
    "\n",
    "\n",
    "City\tCountry\tSeason\tTemperature (C)\tRainfall (mm)\n",
    "Mumbai\tIndia\tWinter\t24.8\t5.9\n",
    "Mumbai\tIndia\tSpring\t28.4\t16.2\n",
    "Mumbai\tIndia\tSummer\t27.9\t1549.4\n",
    "Mumbai\tIndia\tFall\t27.6\t346.0\n",
    "London\tUnited Kingdom\tWinter\t4.2\t207.7\n",
    "London\tUnited Kingdom\tSpring\t8.3\t169.6\n",
    "London\tUnited Kingdom\tSummer\t15.7\t157.0\n",
    "London\tUnited Kingdom\tFall\t10.4\t218.5\n",
    "Cairo\tEgypt\tWinter\t13.6\t16.5\n",
    "Cairo\tEgypt\tSpring\t20.7\t6.5\n",
    "Cairo\tEgypt\tSummer\t27.7\t0.1\n",
    "Cairo\tEgypt\tFall\t22.2\t4.5"
   ]
  },
  {
   "cell_type": "code",
   "execution_count": null,
   "id": "9c27d362",
   "metadata": {},
   "outputs": [],
   "source": [
    "SOLUTION 8"
   ]
  },
  {
   "cell_type": "code",
   "execution_count": null,
   "id": "88641d66",
   "metadata": {},
   "outputs": [],
   "source": [
    "1, SELECT temperature from tablename;\n",
    "2, SELECT distinct city from tablename;\n",
    "3, SELECT * from tablename where country='India';\n",
    "4, SELECT * from tablename where season='Fall';\n",
    "5, SELECT city, country, season from tablename where rainfaill >= 200\n",
    "   and rainfall <= 400;\n",
    "6, SELECT city, country from tablename where temperature>20\n",
    "   order by temperature ASC;\n",
    "7, SELECT count(rainfall) from tablename where city='Cairo';\n",
    "8, SELECT rainfall, count(rainfall) from tablename \n",
    "   group by rainfall;"
   ]
  },
  {
   "cell_type": "code",
   "execution_count": null,
   "id": "746c1658",
   "metadata": {},
   "outputs": [],
   "source": []
  },
  {
   "cell_type": "code",
   "execution_count": null,
   "id": "169cbed7",
   "metadata": {},
   "outputs": [],
   "source": [
    "QUESTION 9"
   ]
  },
  {
   "cell_type": "code",
   "execution_count": null,
   "id": "04e04c6d",
   "metadata": {},
   "outputs": [],
   "source": [
    " Suppose list words is defined as follows:\n",
    "\n",
    ">>> words = ['The', 'quick', 'brown', 'fox', 'jumps', 'over', 'the', 'lazy', 'dog']\n",
    "\n",
    "Write list comprehension expressions that use list words and generate the following lists:\n",
    "\n",
    "(a)  ['THE', 'QUICK', 'BROWN', 'FOX', 'JUMPS', 'OVER', 'THE', 'LAZY', 'DOG']\n",
    "(b)  ['the', 'quick', 'brown', 'fox', 'jumps', 'over', 'the', 'lazy', 'dog']\n",
    "(c)  [3, 5, 5, 3, 5, 4, 3, 4, 3] (the list of lengths of words in list words).\n",
    "(d)  [['THE', 'the', 3], ['QUICK', 'quick', 5], ['BROWN', 'brown', 5], ['FOX', 'fox', 3], ['JUMPS', 'jumps', 5], ['OVER',     \n",
    "     'over', 4], ['THE', 'the', 3], ['LAZY', 'lazy', 4], ['DOG', 'dog', 3]] (the list containing a list for every word of list \n",
    "     words, where each list contains the word in uppercase and lowercase and the length of the word.)\n",
    "(e)  ['The', 'quick', 'brown', 'fox', 'jumps', 'over', 'the', 'lazy', 'dog'] (the list of words in list words containing 4 or \n",
    "     more characters.)"
   ]
  },
  {
   "cell_type": "code",
   "execution_count": null,
   "id": "5938bdf6",
   "metadata": {},
   "outputs": [],
   "source": [
    "SOLUTION 9"
   ]
  },
  {
   "cell_type": "code",
   "execution_count": null,
   "id": "a43606d2",
   "metadata": {},
   "outputs": [],
   "source": [
    "(a)  ['THE', 'QUICK', 'BROWN', 'FOX', 'JUMPS', 'OVER', 'THE', 'LAZY', 'DOG']\n",
    "\n",
    "\n",
    "#(a)\n",
    "def Upper(words):\n",
    "    for i in range(len(words)):\n",
    "        #convert every word in uppercase\n",
    "        words[i]=words[i].upper()\n",
    "\n",
    "\n",
    "    return words\n",
    "\n",
    "\n",
    "words = ['The', 'quick', 'brown', 'fox', 'jumps', 'over', 'the', 'lazy', 'dog']\n",
    "#call function\n",
    "list_Upper=Upper(words)\n",
    "#print new list\n",
    "print(list_Upper)\n",
    " \n",
    "===============================================================================================================================\n",
    "\n",
    "(b)  ['the', 'quick', 'brown', 'fox', 'jumps', 'over', 'the', 'lazy', 'dog']\n",
    "\n",
    "\n",
    "#(b)\n",
    "def Lower(words):\n",
    "    for i in range(len(words)):\n",
    "        #convert all words in lowercase\n",
    "        words[i]=words[i].lower()\n",
    "\n",
    "    return words\n",
    "\n",
    "\n",
    "words = ['The', 'quick', 'brown', 'fox', 'jumps', 'over', 'the', 'lazy', 'dog']\n",
    "#call method Lower()\n",
    "list_Lower=Lower(words)\n",
    "#Print new list\n",
    "print(list_Lower)\n",
    "\n",
    "===============================================================================================================================\n",
    "\n",
    "(c)  [3, 5, 5, 3, 5, 4, 3, 4, 3]\n",
    "\n",
    "#(C)\n",
    "def Length(words):\n",
    "    for i in range(len(words)):\n",
    "        #convert list having length of each word\n",
    "        words[i]=len(words[i])\n",
    "\n",
    "    return words\n",
    "\n",
    "\n",
    "words = ['The', 'quick', 'brown', 'fox', 'jumps', 'over', 'the', 'lazy', 'dog']\n",
    "#call method\n",
    "list_Length=Length(words)\n",
    "#print new list\n",
    "print(list_Length)\n",
    "\n",
    "==============================================================================================================================\n",
    "\n",
    "(d)  [['THE', 'the', 3], ['QUICK', 'quick', 5], ['BROWN', 'brown', 5], ['FOX', 'fox', 3], ['JUMPS', 'jumps', 5], ['OVER',   \n",
    "     'over', 4], ['THE', 'the', 3], ['LAZY', 'lazy', 4], ['DOG', 'dog', 3]]\n",
    "     \n",
    "     \n",
    "     #(d)\n",
    "def Low_Up_Len(words):\n",
    "    list=[] #empty list that will store list of upper lower and length of words\n",
    "    temp=[] #list to create list of each word\n",
    "    for i in range(len(words)):\n",
    "        temp.append(words[i].upper())\n",
    "        temp.append(words[i].lower())\n",
    "        temp.append(len(words[i]))\n",
    "        #append temporary list to list\n",
    "        list.append(temp)\n",
    "\n",
    "        #initialize temporary list to empty list\n",
    "        temp=[]\n",
    "\n",
    "\n",
    "    return list\n",
    "\n",
    "\n",
    "words = ['The', 'quick', 'brown', 'fox', 'jumps', 'over', 'the', 'lazy', 'dog']\n",
    "\n",
    "#method call\n",
    "list=Low_Up_Len(words)\n",
    "\n",
    "#print new list\n",
    "print(list)\n",
    "\n",
    "===============================================================================================================================\n",
    "     \n",
    "     \n",
    "(e)  ['quick', 'brown', 'jumps', 'over', 'lazy']   \n",
    "\n",
    "#(e)\n",
    "def more_4(words):\n",
    "    list=[]\n",
    "    for i in range(len(words)):\n",
    "        #if word length is 4 or more character\n",
    "        if len(words[i])>=4:\n",
    "            \n",
    "            list.append(words[i])\n",
    "\n",
    "\n",
    "    return list\n",
    "\n",
    "\n",
    "words = ['The', 'quick', 'brown', 'fox', 'jumps', 'over', 'the', 'lazy', 'dog']\n",
    "#call method\n",
    "list=more_4(words)\n",
    "#print new list\n",
    "print(list)\n",
    "\n"
   ]
  },
  {
   "cell_type": "code",
   "execution_count": null,
   "id": "96d196db",
   "metadata": {},
   "outputs": [],
   "source": []
  },
  {
   "cell_type": "code",
   "execution_count": null,
   "id": "5ac80f3c",
   "metadata": {},
   "outputs": [],
   "source": []
  },
  {
   "cell_type": "code",
   "execution_count": null,
   "id": "70681fef",
   "metadata": {},
   "outputs": [],
   "source": []
  },
  {
   "cell_type": "code",
   "execution_count": null,
   "id": "82d04a37",
   "metadata": {},
   "outputs": [],
   "source": []
  }
 ],
 "metadata": {
  "kernelspec": {
   "display_name": "Python 3 (ipykernel)",
   "language": "python",
   "name": "python3"
  },
  "language_info": {
   "codemirror_mode": {
    "name": "ipython",
    "version": 3
   },
   "file_extension": ".py",
   "mimetype": "text/x-python",
   "name": "python",
   "nbconvert_exporter": "python",
   "pygments_lexer": "ipython3",
   "version": "3.9.7"
  }
 },
 "nbformat": 4,
 "nbformat_minor": 5
}
